{
 "cells": [
  {
   "cell_type": "code",
   "execution_count": 1,
   "metadata": {},
   "outputs": [],
   "source": [
    "import numpy as np\n",
    "import matplotlib.pyplot as plt\n",
    "%matplotlib qt"
   ]
  },
  {
   "cell_type": "code",
   "execution_count": 2,
   "metadata": {},
   "outputs": [],
   "source": [
    "def P_K1(N): #function to calculate the probability of forming a loop on each knot\n",
    "    PK1 = np.zeros(N)\n",
    "    PK1[0] = 1\n",
    "    for i in range(1,N):\n",
    "        PK1[i] = 1/((2*i)+1)\n",
    "    return PK1"
   ]
  },
  {
   "cell_type": "code",
   "execution_count": 3,
   "metadata": {},
   "outputs": [],
   "source": [
    "def P_K0(N): #function to calculate the probability of NOT forming a loop on each knot\n",
    "    PK0 = np.zeros(N)\n",
    "    PK0[0] = 0\n",
    "    for i in range(1,N):\n",
    "        PK0[i] = (2*i)/((2*i)+1)\n",
    "    return PK0"
   ]
  },
  {
   "cell_type": "code",
   "execution_count": 4,
   "metadata": {},
   "outputs": [],
   "source": [
    "def PL(N,l): #function to calculate P[L=l] given value of N (no. of strings to start)\n",
    "    PL = np.zeros((N,N))\n",
    "    PL[(0,0)] = 1 \n",
    "    for i in range(1,N):\n",
    "        for j in range(i+1):\n",
    "            PL[(i,j)] = (P_K0(i+1)[i])*PL[(i-1,j)] +(P_K1(i+1)[i])*PL[(i-1,j-1)]\n",
    "    return PL[(N-1,l-1)]"
   ]
  },
  {
   "cell_type": "code",
   "execution_count": 5,
   "metadata": {},
   "outputs": [],
   "source": [
    "def EL(N): #function to calculate the expected number of loops formed for given value of N\n",
    "    EL = 0\n",
    "    for i in range(N+1):\n",
    "        EL = EL + PL(N,i)*(i)\n",
    "    return EL"
   ]
  },
  {
   "cell_type": "code",
   "execution_count": 6,
   "metadata": {},
   "outputs": [],
   "source": [
    "n = 50\n",
    "x = np.arange(1, n+1)\n",
    "y = PL(n,x)\n",
    "fig, ax = plt.subplots()\n",
    "ax.plot(x,y)\n",
    "#ax.set_xticks(x, minor= False)\n",
    "plt.xlabel(\"l\")\n",
    "plt.ylabel(\"P(L=l)\")\n",
    "plt.title('Distribution of L when N = 100') #remember to change the title for the appropiate value of n\n",
    "ax.grid()\n",
    "plt.show()"
   ]
  },
  {
   "cell_type": "code",
   "execution_count": 7,
   "metadata": {},
   "outputs": [],
   "source": [
    "N = 25\n",
    "X = np.arange(1,N+1)\n",
    "Y = np.zeros(N)\n",
    "for i in range(N):\n",
    "    Y[i] = EL(i+1)\n",
    "fig, ax = plt.subplots()\n",
    "ax.plot(X,Y)\n",
    "#ax.set_xticks(X, minor= False)\n",
    "plt.xlabel(\"N\")\n",
    "plt.ylabel(\"E[L_N])\")\n",
    "plt.title('Expected number of loops for N') \n",
    "ax.grid()\n",
    "plt.show()"
   ]
  },
  {
   "cell_type": "code",
   "execution_count": 8,
   "metadata": {},
   "outputs": [
    {
     "data": {
      "text/plain": [
       "0.001058201058201058"
      ]
     },
     "execution_count": 8,
     "metadata": {},
     "output_type": "execute_result"
    }
   ],
   "source": [
    "PL(5,5)"
   ]
  },
  {
   "cell_type": "code",
   "execution_count": 9,
   "metadata": {},
   "outputs": [
    {
     "data": {
      "text/plain": [
       "3.0032870588120666"
      ]
     },
     "execution_count": 9,
     "metadata": {},
     "output_type": "execute_result"
    }
   ],
   "source": [
    "EL(57)"
   ]
  }
 ],
 "metadata": {
  "kernelspec": {
   "display_name": "Python 3",
   "language": "python",
   "name": "python3"
  },
  "language_info": {
   "codemirror_mode": {
    "name": "ipython",
    "version": 3
   },
   "file_extension": ".py",
   "mimetype": "text/x-python",
   "name": "python",
   "nbconvert_exporter": "python",
   "pygments_lexer": "ipython3",
   "version": "3.8.5"
  }
 },
 "nbformat": 4,
 "nbformat_minor": 4
}
